{
 "cells": [
  {
   "cell_type": "markdown",
   "id": "55325533",
   "metadata": {},
   "source": [
    "\n",
    "# Análise Macroeconômica Aplicada ao Agro\n",
    "\n",
    "Este notebook faz uma análise simplificada sobre como variáveis macroeconômicas como câmbio (USD/BRL), taxa de juros e preço do petróleo impactam o mercado de commodities agrícolas como soja e milho no Brasil.\n",
    "\n",
    "**Objetivo:** Demonstrar a relação entre variáveis macroeconômicas e a formação de preço das commodities agrícolas.\n"
   ]
  },
  {
   "cell_type": "code",
   "execution_count": null,
   "id": "29bb67b6",
   "metadata": {},
   "outputs": [],
   "source": [
    "\n",
    "import pandas as pd\n",
    "import numpy as np\n",
    "import matplotlib.pyplot as plt\n"
   ]
  },
  {
   "cell_type": "code",
   "execution_count": null,
   "id": "a231d554",
   "metadata": {},
   "outputs": [],
   "source": [
    "\n",
    "np.random.seed(42)\n",
    "dias = np.arange(0, 100)\n",
    "\n",
    "# Simular Câmbio (USD/BRL)\n",
    "cambio = 5.0 + np.random.normal(0, 0.05, size=len(dias)).cumsum()\n",
    "\n",
    "# Simular Juros (Selic % ao ano)\n",
    "juros = 13.75 + np.random.normal(0, 0.02, size=len(dias)).cumsum()\n",
    "\n",
    "# Simular Petróleo (USD/barril)\n",
    "petroleo = 80 + np.random.normal(0, 1, size=len(dias)).cumsum()\n",
    "\n",
    "# Simular preço da Soja (Spot)\n",
    "soja = 150 + 0.5 * cambio + 0.2 * petroleo - 0.3 * juros + np.random.normal(0, 1, size=len(dias)).cumsum()\n",
    "\n",
    "# Simular preço do Milho (Spot)\n",
    "milho = 90 + 0.4 * cambio + 0.1 * petroleo - 0.2 * juros + np.random.normal(0, 1, size=len(dias)).cumsum()\n",
    "\n",
    "df = pd.DataFrame({\n",
    "    'Dia': dias,\n",
    "    'Câmbio': cambio,\n",
    "    'Juros': juros,\n",
    "    'Petróleo': petroleo,\n",
    "    'Soja': soja,\n",
    "    'Milho': milho\n",
    "})\n",
    "\n",
    "df.head()\n"
   ]
  },
  {
   "cell_type": "code",
   "execution_count": null,
   "id": "d4905128",
   "metadata": {},
   "outputs": [],
   "source": [
    "\n",
    "plt.figure(figsize=(12,6))\n",
    "plt.plot(df['Dia'], df['Câmbio'], label='Câmbio (USD/BRL)')\n",
    "plt.plot(df['Dia'], df['Juros'], label='Juros (Selic %)', linestyle='--')\n",
    "plt.plot(df['Dia'], df['Petróleo'], label='Petróleo (USD/barril)', linestyle='-.')\n",
    "plt.title('Evolução das Variáveis Macroeconômicas')\n",
    "plt.xlabel('Dia')\n",
    "plt.ylabel('Valor')\n",
    "plt.legend()\n",
    "plt.grid()\n",
    "plt.show()\n"
   ]
  },
  {
   "cell_type": "code",
   "execution_count": null,
   "id": "dbf906f0",
   "metadata": {},
   "outputs": [],
   "source": [
    "\n",
    "plt.figure(figsize=(12,6))\n",
    "plt.plot(df['Dia'], df['Soja'], label='Preço Soja (BRL)')\n",
    "plt.plot(df['Dia'], df['Milho'], label='Preço Milho (BRL)', linestyle='--')\n",
    "plt.title('Impacto Macroeconômico no Preço da Soja e do Milho')\n",
    "plt.xlabel('Dia')\n",
    "plt.ylabel('Preço (BRL)')\n",
    "plt.legend()\n",
    "plt.grid()\n",
    "plt.show()\n"
   ]
  },
  {
   "cell_type": "markdown",
   "id": "62283127",
   "metadata": {},
   "source": [
    "\n",
    "## 🔍 Conclusão\n",
    "\n",
    "Este modelo demonstra, de forma simplificada, como o câmbio, os juros e o petróleo podem afetar os preços das commodities agrícolas.\n",
    "\n",
    "- **Câmbio alto:** Aumenta o preço da soja e do milho, pois torna as commodities brasileiras mais competitivas no mercado externo.\n",
    "- **Petróleo alto:** Eleva custos logísticos e também pressiona os preços agrícolas.\n",
    "- **Juros altos:** Reduz demanda, financiamento e tende a pressionar negativamente os preços.\n",
    "\n",
    "Este tipo de análise é fundamental para quem trabalha com gestão de risco, hedge e operações no agro.\n"
   ]
  }
 ],
 "metadata": {
  "language_info": {
   "name": "python"
  }
 },
 "nbformat": 4,
 "nbformat_minor": 5
}