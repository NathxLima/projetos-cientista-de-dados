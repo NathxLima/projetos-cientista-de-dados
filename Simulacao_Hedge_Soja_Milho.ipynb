{
 "cells": [
  {
   "cell_type": "markdown",
   "id": "8296fa4f",
   "metadata": {},
   "source": [
    "# Simulação de Hedge para Soja e Milho\n",
    "Este notebook simula uma operação de hedge utilizando contratos futuros para proteção de preço no mercado agrícola."
   ]
  },
  {
   "cell_type": "code",
   "execution_count": null,
   "id": "af20802f",
   "metadata": {},
   "outputs": [],
   "source": [
    "import pandas as pd\n",
    "import numpy as np\n",
    "import matplotlib.pyplot as plt"
   ]
  },
  {
   "cell_type": "code",
   "execution_count": null,
   "id": "49b00f10",
   "metadata": {},
   "outputs": [],
   "source": [
    "\n",
    "# Simulando preços futuros da soja\n",
    "np.random.seed(42)\n",
    "dias = np.arange(0, 100)\n",
    "preco_spot = 150 + np.random.normal(0, 2, size=len(dias)).cumsum()\n",
    "preco_futuro = preco_spot + np.random.normal(0, 1, size=len(dias))\n",
    "\n",
    "df = pd.DataFrame({'Dia': dias, 'Spot': preco_spot, 'Futuro': preco_futuro})\n",
    "df.head()\n"
   ]
  },
  {
   "cell_type": "code",
   "execution_count": null,
   "id": "81944609",
   "metadata": {},
   "outputs": [],
   "source": [
    "\n",
    "plt.figure(figsize=(10,6))\n",
    "plt.plot(df['Dia'], df['Spot'], label='Preço Spot')\n",
    "plt.plot(df['Dia'], df['Futuro'], label='Preço Futuro', linestyle='--')\n",
    "plt.title('Simulação de Preço Spot e Futuro da Soja')\n",
    "plt.xlabel('Dia')\n",
    "plt.ylabel('Preço (USD)')\n",
    "plt.legend()\n",
    "plt.grid()\n",
    "plt.show()\n"
   ]
  },
  {
   "cell_type": "markdown",
   "id": "b016e871",
   "metadata": {},
   "source": [
    "\n",
    "## Estratégia de Hedge\n",
    "\n",
    "- **Produtor:** Vende contratos futuros para se proteger da queda de preço.\n",
    "- **Se o preço Spot cair:** Perde no físico, mas ganha no futuro.\n",
    "- **Se o preço Spot subir:** Ganha no físico, mas perde no futuro.\n",
    "- **Objetivo:** Travar o preço e garantir a receita.\n"
   ]
  },
  {
   "cell_type": "code",
   "execution_count": null,
   "id": "f8d69ea3",
   "metadata": {},
   "outputs": [],
   "source": [
    "\n",
    "# Simulando uma venda futura\n",
    "preco_venda_futuro = df['Futuro'].iloc[0]  # Preço na abertura da operação\n",
    "df['Resultado_Hedge'] = preco_venda_futuro - df['Futuro']\n",
    "df['Resultado_Total'] = df['Spot'] + df['Resultado_Hedge']\n",
    "\n",
    "df.tail()\n"
   ]
  },
  {
   "cell_type": "code",
   "execution_count": null,
   "id": "5bed3828",
   "metadata": {},
   "outputs": [],
   "source": [
    "\n",
    "plt.figure(figsize=(10,6))\n",
    "plt.plot(df['Dia'], df['Spot'], label='Receita Spot')\n",
    "plt.plot(df['Dia'], df['Resultado_Total'], label='Receita com Hedge', linestyle='--')\n",
    "plt.title('Receita Spot vs Receita com Hedge')\n",
    "plt.xlabel('Dia')\n",
    "plt.ylabel('Receita (USD)')\n",
    "plt.legend()\n",
    "plt.grid()\n",
    "plt.show()\n"
   ]
  }
 ],
 "metadata": {
  "language_info": {
   "name": "python"
  }
 },
 "nbformat": 4,
 "nbformat_minor": 5
}